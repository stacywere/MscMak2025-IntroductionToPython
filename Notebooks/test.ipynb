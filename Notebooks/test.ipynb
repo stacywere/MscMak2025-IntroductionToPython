{
 "cells": [
  {
   "cell_type": "markdown",
   "id": "bf11f538",
   "metadata": {},
   "source": []
  },
  {
   "cell_type": "markdown",
   "id": "d1c545f9",
   "metadata": {},
   "source": [
    "## **this**"
   ]
  },
  {
   "cell_type": "markdown",
   "id": "fbb892dc",
   "metadata": {},
   "source": [
    "# This is the first class "
   ]
  }
 ],
 "metadata": {
  "language_info": {
   "name": "python"
  }
 },
 "nbformat": 4,
 "nbformat_minor": 5
}
