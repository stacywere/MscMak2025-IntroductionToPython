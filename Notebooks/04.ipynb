{
 "cells": [
  {
   "attachments": {},
   "cell_type": "markdown",
   "metadata": {},
   "source": [
    "<small><small><i>\n",
    "Introduction to Python for Bioinformatics - available at https://github.com/GunzIvan28/MScMak2025-IntroductionToPython.\n",
    "</i></small></small>"
   ]
  },
  {
   "cell_type": "markdown",
   "metadata": {},
   "source": [
    "## Dictionaries"
   ]
  },
  {
   "cell_type": "markdown",
   "metadata": {},
   "source": [
    "Dictionaries are mappings between keys and items stored in the dictionaries. Unlike lists and tuples, dictionaries are unordered. Alternatively one can think of dictionaries as sets in which something stored against every element of the set. They can be defined as follows:"
   ]
  },
  {
   "cell_type": "markdown",
   "metadata": {},
   "source": [
    "To define a dictionary, equate a variable to { } or dict()"
   ]
  },
  {
   "cell_type": "code",
   "execution_count": 1,
   "metadata": {},
   "outputs": [
    {
     "name": "stdout",
     "output_type": "stream",
     "text": [
      "<class 'dict'>\n",
      "{'abc': 3, 4: 'A string'}\n"
     ]
    }
   ],
   "source": [
    "d = dict() # or equivalently d={}\n",
    "print(type(d))\n",
    "d['abc'] = 3\n",
    "d[4] = \"A string\"\n",
    "print(d)"
   ]
  },
  {
   "cell_type": "markdown",
   "metadata": {},
   "source": [
    "As can be guessed from the output above. Dictionaries can be defined by using the `{ key : value }` syntax. The following dictionary has three elements"
   ]
  },
  {
   "cell_type": "code",
   "execution_count": 2,
   "metadata": {},
   "outputs": [
    {
     "data": {
      "text/plain": [
       "3"
      ]
     },
     "execution_count": 2,
     "metadata": {},
     "output_type": "execute_result"
    }
   ],
   "source": [
    "d = { 1: 'One', 2 : 'Two', 100 : 'Hundred'}\n",
    "len(d)"
   ]
  },
  {
   "cell_type": "code",
   "execution_count": 3,
   "metadata": {},
   "outputs": [
    {
     "data": {
      "text/plain": [
       "dict_keys([1, 2, 100])"
      ]
     },
     "execution_count": 3,
     "metadata": {},
     "output_type": "execute_result"
    }
   ],
   "source": [
    "d.keys()"
   ]
  },
  {
   "cell_type": "code",
   "execution_count": 4,
   "metadata": {},
   "outputs": [
    {
     "data": {
      "text/plain": [
       "dict_values(['One', 'Two', 'Hundred'])"
      ]
     },
     "execution_count": 4,
     "metadata": {},
     "output_type": "execute_result"
    }
   ],
   "source": [
    "d.values()"
   ]
  },
  {
   "cell_type": "markdown",
   "metadata": {},
   "source": [
    "Now you are able to access 'One' by the index value set at 1"
   ]
  },
  {
   "cell_type": "code",
   "execution_count": 5,
   "metadata": {},
   "outputs": [
    {
     "name": "stdout",
     "output_type": "stream",
     "text": [
      "One\n"
     ]
    }
   ],
   "source": [
    "print(d[1])"
   ]
  },
  {
   "cell_type": "markdown",
   "metadata": {},
   "source": [
    "There are a number of alternative ways for specifying a dictionary including as a list of `(key,value)` tuples.\n",
    "To illustrate this we will start with two lists and form a set of tuples from them using the **zip()** function\n",
    "Two lists which are related can be merged to form a dictionary."
   ]
  },
  {
   "cell_type": "code",
   "execution_count": 1,
   "metadata": {},
   "outputs": [
    {
     "data": {
      "text/plain": [
       "[('One', 1), ('Two', 2), ('Three', 3), ('Four', 4), ('Five', 5)]"
      ]
     },
     "execution_count": 1,
     "metadata": {},
     "output_type": "execute_result"
    }
   ],
   "source": [
    "names = ['One', 'Two', 'Three', 'Four', 'Five']\n",
    "numbers = [1, 2, 3, 4, 5]\n",
    "[ (name,number) for name,number in zip(names,numbers)] # create (name,number) pairs"
   ]
  },
  {
   "cell_type": "code",
   "execution_count": 4,
   "metadata": {},
   "outputs": [
    {
     "name": "stdout",
     "output_type": "stream",
     "text": [
      "<generator object <genexpr> at 0x00000293DB16BD30>\n"
     ]
    }
   ],
   "source": [
    "pot = ( (name,number) for name,number in zip(names,numbers))\n",
    "print (pot)"
   ]
  },
  {
   "cell_type": "markdown",
   "metadata": {},
   "source": [
    "Now we can create a dictionary that maps the name to the number as follows."
   ]
  },
  {
   "cell_type": "code",
   "execution_count": 2,
   "metadata": {},
   "outputs": [
    {
     "name": "stdout",
     "output_type": "stream",
     "text": [
      "{'One': 1, 'Two': 2, 'Three': 3, 'Four': 4, 'Five': 5}\n"
     ]
    }
   ],
   "source": [
    "a1 = dict((name,number) for name,number in zip(names,numbers))\n",
    "print(a1)"
   ]
  },
  {
   "cell_type": "markdown",
   "metadata": {},
   "source": [
    "Note that the ordering for this dictionary is not based on the order in which elements are added but on its own ordering (based on hash index ordering). It is best never to assume an ordering when iterating over elements of a dictionary.\n",
    "\n",
    "By using tuples as indexes we make a dictionary behave like a sparse matrix:"
   ]
  },
  {
   "cell_type": "code",
   "execution_count": 3,
   "metadata": {},
   "outputs": [
    {
     "name": "stdout",
     "output_type": "stream",
     "text": [
      "{(0, 1): 3.5, (2, 17): 0.1, (2, 2): 3.6}\n"
     ]
    }
   ],
   "source": [
    "matrix={ (0,1): 3.5, (2,17): 0.1}\n",
    "matrix[2,2] = matrix[0,1] + matrix[2,17]\n",
    "print(matrix)\n",
    "\n",
    "#what is this. how to make it the total of the first column instead"
   ]
  },
  {
   "cell_type": "markdown",
   "metadata": {},
   "source": [
    "Dictionary can also be built using the loop style definition."
   ]
  },
  {
   "cell_type": "code",
   "execution_count": 4,
   "metadata": {},
   "outputs": [
    {
     "name": "stdout",
     "output_type": "stream",
     "text": [
      "{'One': 3, 'Two': 3, 'Three': 5, 'Four': 4, 'Five': 4}\n"
     ]
    }
   ],
   "source": [
    "a2 = { name : len(name) for name in names}\n",
    "print(a2)"
   ]
  },
  {
   "cell_type": "markdown",
   "metadata": {},
   "source": [
    "### Built-in Functions"
   ]
  },
  {
   "cell_type": "markdown",
   "metadata": {},
   "source": [
    "The **len()** function and **in** operator have the obvious meaning:"
   ]
  },
  {
   "cell_type": "code",
   "execution_count": 5,
   "metadata": {},
   "outputs": [
    {
     "name": "stdout",
     "output_type": "stream",
     "text": [
      "a1 has 5 elements\n",
      "One is in a1 True but not Zero False\n"
     ]
    }
   ],
   "source": [
    "print(\"a1 has\",len(a1),\"elements\")\n",
    "print(\"One is in a1\",'One' in a1,\"but not Zero\", 'Zero' in a1)"
   ]
  },
  {
   "cell_type": "markdown",
   "metadata": {},
   "source": [
    "**clear( )** function is used to erase all elements."
   ]
  },
  {
   "cell_type": "code",
   "execution_count": null,
   "metadata": {},
   "outputs": [],
   "source": [
    "a2.clear()\n",
    "print(a2)"
   ]
  },
  {
   "cell_type": "markdown",
   "metadata": {},
   "source": [
    "**values( )** function returns a list with all the assigned values in the dictionary. (Acutally not quit a list, but something that we can iterate over just like a list to construct a list, tuple or any other collection):"
   ]
  },
  {
   "cell_type": "code",
   "execution_count": 6,
   "metadata": {},
   "outputs": [
    {
     "data": {
      "text/plain": [
       "[1, 2, 3, 4, 5]"
      ]
     },
     "execution_count": 6,
     "metadata": {},
     "output_type": "execute_result"
    }
   ],
   "source": [
    "[ v for v in a1.values() ]"
   ]
  },
  {
   "cell_type": "markdown",
   "metadata": {},
   "source": [
    "**keys( )** function returns all the index or the keys to which contains the values that it was assigned to."
   ]
  },
  {
   "cell_type": "code",
   "execution_count": 7,
   "metadata": {},
   "outputs": [
    {
     "data": {
      "text/plain": [
       "{'Five', 'Four', 'One', 'Three', 'Two'}"
      ]
     },
     "execution_count": 7,
     "metadata": {},
     "output_type": "execute_result"
    }
   ],
   "source": [
    "{ k for k in a1.keys() }"
   ]
  },
  {
   "cell_type": "markdown",
   "metadata": {},
   "source": [
    "**items( )** is returns a list containing both the list but each element in the dictionary is inside a tuple. This is same as the result that was obtained when zip function was used - except that the ordering has been 'shuffled' by the dictionary."
   ]
  },
  {
   "cell_type": "code",
   "execution_count": null,
   "metadata": {},
   "outputs": [
    {
     "data": {
      "text/plain": [
       "'One = 1,  Two = 2,  Three = 3,  Four = 4,  Five = 5'"
      ]
     },
     "execution_count": 8,
     "metadata": {},
     "output_type": "execute_result"
    }
   ],
   "source": [
    "\",  \".join( \"%s = %d\" % (name,val) for name,val in a1.items())"
   ]
  },
  {
   "cell_type": "code",
   "execution_count": 10,
   "metadata": {},
   "outputs": [
    {
     "name": "stdout",
     "output_type": "stream",
     "text": [
      "One = 1,  Two = 2,  Three = 3,  Four = 4,  Five = 5\n",
      "<class 'str'>\n"
     ]
    }
   ],
   "source": [
    "wat = (\",  \".join( \"%s = %d\" % (name,val) for name,val in a1.items()))\n",
    "print(wat)\n",
    "print(type(wat))"
   ]
  },
  {
   "cell_type": "markdown",
   "metadata": {},
   "source": [
    "**pop( )** function is used to get the remove that particular element and this removed element can be assigned to a new variable. But remember only the value is stored and not the key. Because the is just a index value."
   ]
  },
  {
   "cell_type": "code",
   "execution_count": null,
   "metadata": {},
   "outputs": [],
   "source": [
    "val = a1.pop('Four')\n",
    "print(a1)\n",
    "print(\"Removed\",val)"
   ]
  },
  {
   "cell_type": "markdown",
   "metadata": {},
   "source": [
    "## Exercise 1\n",
    "\n",
    "- Using strings, lists, tuples and dictionaries concepts, find the reverse complement of AAAAATCCCGAGGCGGCTATATAGGGCTCCGGAGGCGTAATATAAAA"
   ]
  },
  {
   "cell_type": "code",
   "execution_count": 1,
   "metadata": {},
   "outputs": [],
   "source": [
    "a = 'AAAAATCCCGAGGCGGCTATATAGGGCTCCGGAGGCGTAATATAAAA'\n"
   ]
  },
  {
   "cell_type": "code",
   "execution_count": null,
   "metadata": {},
   "outputs": [],
   "source": [
    "#ans\n",
    "\n",
    "seq = 'AAAAATCCCGAGGCGGCTATATAGGGCTCCGGAGGCGTAATATAAAA'\n",
    "complement = {\"A\": \"T\", }"
   ]
  },
  {
   "cell_type": "code",
   "execution_count": null,
   "metadata": {},
   "outputs": [],
   "source": []
  },
  {
   "cell_type": "code",
   "execution_count": null,
   "metadata": {},
   "outputs": [],
   "source": [
    "b = list(a)\n",
    "d = {\"A\": \"T\", \"T\": \"A\", \"G\": \"C\": \"G\"}\n",
    "c = [d[base] for base in b]\n",
    "reverseC"
   ]
  },
  {
   "cell_type": "code",
   "execution_count": 4,
   "metadata": {},
   "outputs": [
    {
     "name": "stdout",
     "output_type": "stream",
     "text": [
      "ABCD\n"
     ]
    }
   ],
   "source": [
    "seq = \"ABCD\"\n",
    "val = []\n",
    "for x in seq:\n",
    "    val.append(x)\n",
    "\n",
    "print(\"\".join(val))"
   ]
  },
  {
   "cell_type": "markdown",
   "metadata": {},
   "source": [
    "## Exercise 2\n",
    "Given the DNA sequence AAAAATCCCGAGGCGGCTATATAGGGCTCCGGAGGCGTAATATAAAA find the k-mer(3-mer) with the highest frequency"
   ]
  },
  {
   "cell_type": "code",
   "execution_count": 6,
   "metadata": {},
   "outputs": [
    {
     "data": {
      "text/plain": [
       "47"
      ]
     },
     "execution_count": 6,
     "metadata": {},
     "output_type": "execute_result"
    }
   ],
   "source": [
    "dna = \"AAAAATCCCGAGGCGGCTATATAGGGCTCCGGAGGCGTAATATAAAA\"\n",
    "#dna[0:3]\n",
    "#dna[1:4]\n",
    "#dna[2:5]  #recognize the pattern of the sliding k-mers\n",
    "len(dna)"
   ]
  },
  {
   "cell_type": "code",
   "execution_count": null,
   "metadata": {},
   "outputs": [],
   "source": [
    "print (f\" my sequence is (a). and\")"
   ]
  },
  {
   "cell_type": "code",
   "execution_count": null,
   "metadata": {},
   "outputs": [],
   "source": [
    "#Code\n",
    "step = 0\n",
    "while step <=len(dna)-3:\n",
    "    print(dna[step:step+3])\n",
    "    step = step + 1"
   ]
  },
  {
   "cell_type": "code",
   "execution_count": null,
   "metadata": {},
   "outputs": [],
   "source": [
    "step = 0\n",
    "dna_list=[]\n",
    "while step <=len(dna)-3:\n",
    "    dna_list.append(dna[step:step+3])\n",
    "    step = step + 1"
   ]
  },
  {
   "cell_type": "code",
   "execution_count": null,
   "metadata": {},
   "outputs": [],
   "source": [
    "dna_list"
   ]
  },
  {
   "cell_type": "code",
   "execution_count": null,
   "metadata": {},
   "outputs": [],
   "source": [
    "dna_dict = {}\n",
    "for dna in dna_list:\n",
    "    dna_dict[dna] = dna_list.count(dna)"
   ]
  },
  {
   "cell_type": "code",
   "execution_count": null,
   "metadata": {},
   "outputs": [],
   "source": [
    "dna_dict"
   ]
  },
  {
   "cell_type": "code",
   "execution_count": null,
   "metadata": {},
   "outputs": [
    {
     "name": "stdout",
     "output_type": "stream",
     "text": [
      "['AAA', 'AAA', 'AAA', 'AAT', 'ATC', 'TCC', 'CCC', 'CCG', 'CGA', 'GAG', 'AGG', 'GGC', 'GCG', 'CGG', 'GGC', 'GCT', 'CTA', 'TAT', 'ATA', 'TAT', 'ATA', 'TAG', 'AGG', 'GGG', 'GGC', 'GCT', 'CTC', 'TCC', 'CCG', 'CGG', 'GGA', 'GAG', 'AGG', 'GGC', 'GCG', 'CGT', 'GTA', 'TAA', 'AAT', 'ATA', 'TAT', 'ATA', 'TAA', 'AAA']\n"
     ]
    }
   ],
   "source": [
    "#answer example\n",
    "kmer_list = []\n",
    "for kmer in range(0, len(dna)-3):\n",
    "    kmer_list.append(dna[kmer:kmer+3])\n",
    "print(kmer_list)\n",
    "\n",
    "kmer_dict = {}\n",
    "\n",
    "for kmer in kmer_list:\n",
    "    kmer_dict[kmer] = kmer_list.count(kmer)\n",
    "    \n",
    "print(kmer_dict)\n",
    "\n",
    "highest_frequency = max"
   ]
  },
  {
   "cell_type": "code",
   "execution_count": 20,
   "metadata": {},
   "outputs": [],
   "source": [
    "#answer example2\n",
    "dna = \"AAAAATCCCGAGGCGGCTATATAGGGCTCCGGAGGCGTAATATAAAA\"\n",
    " "
   ]
  },
  {
   "cell_type": "code",
   "execution_count": 9,
   "metadata": {},
   "outputs": [],
   "source": [
    "k = 3\n",
    "kmers = [dna[n:n+k] for n in range(len(dna))]"
   ]
  },
  {
   "cell_type": "code",
   "execution_count": 10,
   "metadata": {},
   "outputs": [
    {
     "data": {
      "text/plain": [
       "['AAA',\n",
       " 'AAA',\n",
       " 'AAA',\n",
       " 'AAT',\n",
       " 'ATC',\n",
       " 'TCC',\n",
       " 'CCC',\n",
       " 'CCG',\n",
       " 'CGA',\n",
       " 'GAG',\n",
       " 'AGG',\n",
       " 'GGC',\n",
       " 'GCG',\n",
       " 'CGG',\n",
       " 'GGC',\n",
       " 'GCT',\n",
       " 'CTA',\n",
       " 'TAT',\n",
       " 'ATA',\n",
       " 'TAT',\n",
       " 'ATA',\n",
       " 'TAG',\n",
       " 'AGG',\n",
       " 'GGG',\n",
       " 'GGC',\n",
       " 'GCT',\n",
       " 'CTC',\n",
       " 'TCC',\n",
       " 'CCG',\n",
       " 'CGG',\n",
       " 'GGA',\n",
       " 'GAG',\n",
       " 'AGG',\n",
       " 'GGC',\n",
       " 'GCG',\n",
       " 'CGT',\n",
       " 'GTA',\n",
       " 'TAA',\n",
       " 'AAT',\n",
       " 'ATA',\n",
       " 'TAT',\n",
       " 'ATA',\n",
       " 'TAA',\n",
       " 'AAA',\n",
       " 'AAA',\n",
       " 'AA',\n",
       " 'A']"
      ]
     },
     "execution_count": 10,
     "metadata": {},
     "output_type": "execute_result"
    }
   ],
   "source": [
    "kmers"
   ]
  },
  {
   "cell_type": "code",
   "execution_count": 11,
   "metadata": {},
   "outputs": [],
   "source": [
    "k = 3\n",
    "kmers = [dna[n:n+k] for n in range(len(dna)-2)]"
   ]
  },
  {
   "cell_type": "code",
   "execution_count": 12,
   "metadata": {},
   "outputs": [
    {
     "data": {
      "text/plain": [
       "['AAA',\n",
       " 'AAA',\n",
       " 'AAA',\n",
       " 'AAT',\n",
       " 'ATC',\n",
       " 'TCC',\n",
       " 'CCC',\n",
       " 'CCG',\n",
       " 'CGA',\n",
       " 'GAG',\n",
       " 'AGG',\n",
       " 'GGC',\n",
       " 'GCG',\n",
       " 'CGG',\n",
       " 'GGC',\n",
       " 'GCT',\n",
       " 'CTA',\n",
       " 'TAT',\n",
       " 'ATA',\n",
       " 'TAT',\n",
       " 'ATA',\n",
       " 'TAG',\n",
       " 'AGG',\n",
       " 'GGG',\n",
       " 'GGC',\n",
       " 'GCT',\n",
       " 'CTC',\n",
       " 'TCC',\n",
       " 'CCG',\n",
       " 'CGG',\n",
       " 'GGA',\n",
       " 'GAG',\n",
       " 'AGG',\n",
       " 'GGC',\n",
       " 'GCG',\n",
       " 'CGT',\n",
       " 'GTA',\n",
       " 'TAA',\n",
       " 'AAT',\n",
       " 'ATA',\n",
       " 'TAT',\n",
       " 'ATA',\n",
       " 'TAA',\n",
       " 'AAA',\n",
       " 'AAA']"
      ]
     },
     "execution_count": 12,
     "metadata": {},
     "output_type": "execute_result"
    }
   ],
   "source": [
    "kmers"
   ]
  },
  {
   "cell_type": "code",
   "execution_count": 13,
   "metadata": {},
   "outputs": [],
   "source": [
    "k = 6\n",
    "kmers = [dna[n:n+k] for n in range(len(dna)-5)]"
   ]
  },
  {
   "cell_type": "code",
   "execution_count": 14,
   "metadata": {},
   "outputs": [
    {
     "data": {
      "text/plain": [
       "['AAAAAT',\n",
       " 'AAAATC',\n",
       " 'AAATCC',\n",
       " 'AATCCC',\n",
       " 'ATCCCG',\n",
       " 'TCCCGA',\n",
       " 'CCCGAG',\n",
       " 'CCGAGG',\n",
       " 'CGAGGC',\n",
       " 'GAGGCG',\n",
       " 'AGGCGG',\n",
       " 'GGCGGC',\n",
       " 'GCGGCT',\n",
       " 'CGGCTA',\n",
       " 'GGCTAT',\n",
       " 'GCTATA',\n",
       " 'CTATAT',\n",
       " 'TATATA',\n",
       " 'ATATAG',\n",
       " 'TATAGG',\n",
       " 'ATAGGG',\n",
       " 'TAGGGC',\n",
       " 'AGGGCT',\n",
       " 'GGGCTC',\n",
       " 'GGCTCC',\n",
       " 'GCTCCG',\n",
       " 'CTCCGG',\n",
       " 'TCCGGA',\n",
       " 'CCGGAG',\n",
       " 'CGGAGG',\n",
       " 'GGAGGC',\n",
       " 'GAGGCG',\n",
       " 'AGGCGT',\n",
       " 'GGCGTA',\n",
       " 'GCGTAA',\n",
       " 'CGTAAT',\n",
       " 'GTAATA',\n",
       " 'TAATAT',\n",
       " 'AATATA',\n",
       " 'ATATAA',\n",
       " 'TATAAA',\n",
       " 'ATAAAA']"
      ]
     },
     "execution_count": 14,
     "metadata": {},
     "output_type": "execute_result"
    }
   ],
   "source": [
    "kmers"
   ]
  },
  {
   "cell_type": "code",
   "execution_count": 15,
   "metadata": {},
   "outputs": [],
   "source": [
    "k = 3\n",
    "kmers = [dna[n:n+k] for n in range(len(dna)- k)]"
   ]
  },
  {
   "cell_type": "code",
   "execution_count": 16,
   "metadata": {},
   "outputs": [
    {
     "data": {
      "text/plain": [
       "['AAA',\n",
       " 'AAA',\n",
       " 'AAA',\n",
       " 'AAT',\n",
       " 'ATC',\n",
       " 'TCC',\n",
       " 'CCC',\n",
       " 'CCG',\n",
       " 'CGA',\n",
       " 'GAG',\n",
       " 'AGG',\n",
       " 'GGC',\n",
       " 'GCG',\n",
       " 'CGG',\n",
       " 'GGC',\n",
       " 'GCT',\n",
       " 'CTA',\n",
       " 'TAT',\n",
       " 'ATA',\n",
       " 'TAT',\n",
       " 'ATA',\n",
       " 'TAG',\n",
       " 'AGG',\n",
       " 'GGG',\n",
       " 'GGC',\n",
       " 'GCT',\n",
       " 'CTC',\n",
       " 'TCC',\n",
       " 'CCG',\n",
       " 'CGG',\n",
       " 'GGA',\n",
       " 'GAG',\n",
       " 'AGG',\n",
       " 'GGC',\n",
       " 'GCG',\n",
       " 'CGT',\n",
       " 'GTA',\n",
       " 'TAA',\n",
       " 'AAT',\n",
       " 'ATA',\n",
       " 'TAT',\n",
       " 'ATA',\n",
       " 'TAA',\n",
       " 'AAA']"
      ]
     },
     "execution_count": 16,
     "metadata": {},
     "output_type": "execute_result"
    }
   ],
   "source": [
    "kmers"
   ]
  },
  {
   "cell_type": "code",
   "execution_count": 17,
   "metadata": {},
   "outputs": [],
   "source": [
    "k = 3\n",
    "kmers = [dna[n:n+k] for n in range(len(dna)- k+1)]"
   ]
  },
  {
   "cell_type": "code",
   "execution_count": 18,
   "metadata": {},
   "outputs": [
    {
     "data": {
      "text/plain": [
       "['AAA',\n",
       " 'AAA',\n",
       " 'AAA',\n",
       " 'AAT',\n",
       " 'ATC',\n",
       " 'TCC',\n",
       " 'CCC',\n",
       " 'CCG',\n",
       " 'CGA',\n",
       " 'GAG',\n",
       " 'AGG',\n",
       " 'GGC',\n",
       " 'GCG',\n",
       " 'CGG',\n",
       " 'GGC',\n",
       " 'GCT',\n",
       " 'CTA',\n",
       " 'TAT',\n",
       " 'ATA',\n",
       " 'TAT',\n",
       " 'ATA',\n",
       " 'TAG',\n",
       " 'AGG',\n",
       " 'GGG',\n",
       " 'GGC',\n",
       " 'GCT',\n",
       " 'CTC',\n",
       " 'TCC',\n",
       " 'CCG',\n",
       " 'CGG',\n",
       " 'GGA',\n",
       " 'GAG',\n",
       " 'AGG',\n",
       " 'GGC',\n",
       " 'GCG',\n",
       " 'CGT',\n",
       " 'GTA',\n",
       " 'TAA',\n",
       " 'AAT',\n",
       " 'ATA',\n",
       " 'TAT',\n",
       " 'ATA',\n",
       " 'TAA',\n",
       " 'AAA',\n",
       " 'AAA']"
      ]
     },
     "execution_count": 18,
     "metadata": {},
     "output_type": "execute_result"
    }
   ],
   "source": [
    "kmers"
   ]
  },
  {
   "cell_type": "code",
   "execution_count": 21,
   "metadata": {},
   "outputs": [
    {
     "data": {
      "text/plain": [
       "{'AAA': 5,\n",
       " 'AAT': 2,\n",
       " 'ATC': 1,\n",
       " 'TCC': 2,\n",
       " 'CCC': 1,\n",
       " 'CCG': 2,\n",
       " 'CGA': 1,\n",
       " 'GAG': 2,\n",
       " 'AGG': 3,\n",
       " 'GGC': 4,\n",
       " 'GCG': 2,\n",
       " 'CGG': 2,\n",
       " 'GCT': 2,\n",
       " 'CTA': 1,\n",
       " 'TAT': 3,\n",
       " 'ATA': 4,\n",
       " 'TAG': 1,\n",
       " 'GGG': 1,\n",
       " 'CTC': 1,\n",
       " 'GGA': 1,\n",
       " 'CGT': 1,\n",
       " 'GTA': 1,\n",
       " 'TAA': 2}"
      ]
     },
     "execution_count": 21,
     "metadata": {},
     "output_type": "execute_result"
    }
   ],
   "source": [
    "k = 3\n",
    "kmers = [dna[n:n+k] for n in range(len(dna)- k+1)]\n",
    "#kmers.count (\"AAA\")\n",
    "{a: kmers.count(a) for a in kmers} "
   ]
  },
  {
   "cell_type": "code",
   "execution_count": null,
   "metadata": {},
   "outputs": [
    {
     "data": {
      "text/plain": [
       "{'TAG': 1,\n",
       " 'AAT': 2,\n",
       " 'CCC': 1,\n",
       " 'CTC': 1,\n",
       " 'GGC': 4,\n",
       " 'GCT': 2,\n",
       " 'TAT': 3,\n",
       " 'CTA': 1,\n",
       " 'AGG': 3,\n",
       " 'ATC': 1,\n",
       " 'GGA': 1,\n",
       " 'GTA': 1,\n",
       " 'CGA': 1,\n",
       " 'AAA': 5,\n",
       " 'GCG': 2,\n",
       " 'CGG': 2,\n",
       " 'GAG': 2,\n",
       " 'GGG': 1,\n",
       " 'CCG': 2,\n",
       " 'CGT': 1,\n",
       " 'TAA': 2,\n",
       " 'ATA': 4,\n",
       " 'TCC': 2}"
      ]
     },
     "execution_count": 22,
     "metadata": {},
     "output_type": "execute_result"
    }
   ],
   "source": [
    "k = 3\n",
    "kmers = [dna[n:n+k] for n in range(len(dna)- k+1)]\n",
    "#kmers.count (\"AAA\")\n",
    "{a: kmers.count(a) for a in set(kmers)} #set ensures that the kmers are picked uniquely"
   ]
  },
  {
   "cell_type": "code",
   "execution_count": 80,
   "metadata": {},
   "outputs": [],
   "source": [
    "k = 3\n",
    "kmers = [dna[n:n+k] for n in range(len(dna)- k+1)]\n",
    "#kmers.count (\"AAA\")\n",
    "freq = {a: kmers.count(a) for a in set(kmers)}"
   ]
  },
  {
   "cell_type": "code",
   "execution_count": 24,
   "metadata": {},
   "outputs": [
    {
     "data": {
      "text/plain": [
       "dict_items([('TAG', 1), ('AAT', 2), ('CCC', 1), ('CTC', 1), ('GGC', 4), ('GCT', 2), ('TAT', 3), ('CTA', 1), ('AGG', 3), ('ATC', 1), ('GGA', 1), ('GTA', 1), ('CGA', 1), ('AAA', 5), ('GCG', 2), ('CGG', 2), ('GAG', 2), ('GGG', 1), ('CCG', 2), ('CGT', 1), ('TAA', 2), ('ATA', 4), ('TCC', 2)])"
      ]
     },
     "execution_count": 24,
     "metadata": {},
     "output_type": "execute_result"
    }
   ],
   "source": [
    "freq.items()"
   ]
  },
  {
   "cell_type": "code",
   "execution_count": 25,
   "metadata": {},
   "outputs": [
    {
     "data": {
      "text/plain": [
       "dict_keys(['TAG', 'AAT', 'CCC', 'CTC', 'GGC', 'GCT', 'TAT', 'CTA', 'AGG', 'ATC', 'GGA', 'GTA', 'CGA', 'AAA', 'GCG', 'CGG', 'GAG', 'GGG', 'CCG', 'CGT', 'TAA', 'ATA', 'TCC'])"
      ]
     },
     "execution_count": 25,
     "metadata": {},
     "output_type": "execute_result"
    }
   ],
   "source": [
    "freq.keys()"
   ]
  },
  {
   "cell_type": "code",
   "execution_count": 29,
   "metadata": {},
   "outputs": [
    {
     "data": {
      "text/plain": [
       "dict_values([1, 2, 1, 1, 4, 2, 3, 1, 3, 1, 1, 1, 1, 5, 2, 2, 2, 1, 2, 1, 2, 4, 2])"
      ]
     },
     "execution_count": 29,
     "metadata": {},
     "output_type": "execute_result"
    }
   ],
   "source": [
    "freq.values()"
   ]
  },
  {
   "cell_type": "code",
   "execution_count": 71,
   "metadata": {},
   "outputs": [
    {
     "data": {
      "text/plain": [
       "5"
      ]
     },
     "execution_count": 71,
     "metadata": {},
     "output_type": "execute_result"
    }
   ],
   "source": [
    "max (freq.values())"
   ]
  },
  {
   "cell_type": "code",
   "execution_count": null,
   "metadata": {},
   "outputs": [],
   "source": [
    "best = [best for best, v in freq.items() if v == max(freq.values())]"
   ]
  },
  {
   "cell_type": "code",
   "execution_count": 73,
   "metadata": {},
   "outputs": [
    {
     "name": "stdout",
     "output_type": "stream",
     "text": [
      "['AAA']\n"
     ]
    }
   ],
   "source": [
    "print(best)"
   ]
  },
  {
   "cell_type": "code",
   "execution_count": 74,
   "metadata": {},
   "outputs": [
    {
     "name": "stdout",
     "output_type": "stream",
     "text": [
      "My best kmer is ['AAA']. And it appears 5 times\n"
     ]
    }
   ],
   "source": [
    "print (f\"My best kmer is {best}. And it appears {max(freq.values())} times\")"
   ]
  },
  {
   "cell_type": "code",
   "execution_count": null,
   "metadata": {},
   "outputs": [],
   "source": [
    "best = [best for best, v in freq.items() if v == max(freq.values())][0]  #[0] removes [] from the AAA"
   ]
  },
  {
   "cell_type": "code",
   "execution_count": 76,
   "metadata": {},
   "outputs": [
    {
     "name": "stdout",
     "output_type": "stream",
     "text": [
      "AAA\n"
     ]
    }
   ],
   "source": [
    "print(best)"
   ]
  },
  {
   "cell_type": "code",
   "execution_count": 79,
   "metadata": {},
   "outputs": [
    {
     "name": "stdout",
     "output_type": "stream",
     "text": [
      "My best kmer is AAA. And it appears 5 times\n"
     ]
    }
   ],
   "source": [
    "print (f\"My best kmer is {best}. And it appears {max(freq.values())} times\")"
   ]
  },
  {
   "cell_type": "code",
   "execution_count": 77,
   "metadata": {},
   "outputs": [
    {
     "data": {
      "text/plain": [
       "47"
      ]
     },
     "execution_count": 77,
     "metadata": {},
     "output_type": "execute_result"
    }
   ],
   "source": [
    "len(dna)"
   ]
  },
  {
   "cell_type": "code",
   "execution_count": 78,
   "metadata": {},
   "outputs": [
    {
     "data": {
      "text/plain": [
       "range(0, 47)"
      ]
     },
     "execution_count": 78,
     "metadata": {},
     "output_type": "execute_result"
    }
   ],
   "source": [
    "range(47)"
   ]
  },
  {
   "cell_type": "code",
   "execution_count": null,
   "metadata": {},
   "outputs": [],
   "source": []
  },
  {
   "cell_type": "code",
   "execution_count": null,
   "metadata": {},
   "outputs": [],
   "source": []
  },
  {
   "cell_type": "code",
   "execution_count": null,
   "metadata": {},
   "outputs": [],
   "source": []
  },
  {
   "cell_type": "code",
   "execution_count": null,
   "metadata": {},
   "outputs": [],
   "source": []
  },
  {
   "cell_type": "code",
   "execution_count": null,
   "metadata": {},
   "outputs": [],
   "source": []
  },
  {
   "cell_type": "code",
   "execution_count": null,
   "metadata": {},
   "outputs": [],
   "source": []
  }
 ],
 "metadata": {
  "celltoolbar": "Raw Cell Format",
  "kernelspec": {
   "display_name": "base",
   "language": "python",
   "name": "python3"
  },
  "language_info": {
   "codemirror_mode": {
    "name": "ipython",
    "version": 3
   },
   "file_extension": ".py",
   "mimetype": "text/x-python",
   "name": "python",
   "nbconvert_exporter": "python",
   "pygments_lexer": "ipython3",
   "version": "3.13.5"
  }
 },
 "nbformat": 4,
 "nbformat_minor": 4
}
